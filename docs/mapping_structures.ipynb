{
 "cells": [
  {
   "cell_type": "markdown",
   "id": "990ea6d0",
   "metadata": {},
   "source": [
    "### Slide: Problem Statement"
   ]
  },
  {
   "cell_type": "markdown",
   "id": "b6f27e1d",
   "metadata": {},
   "source": [
    "In many general-purpose implementations of RL algorithms\n",
    "it is necessary to work with **structured runtime data**.\n",
    "\n",
    "Specifically, common use cases are\n",
    "\n",
    "> stacking or slicing **homogeneous data** seated in a deeply **nested object**\n",
    "\n",
    "> recording and retrieving pieces of **structured data** from some storage"
   ]
  },
  {
   "cell_type": "markdown",
   "id": "988d103a",
   "metadata": {},
   "source": [
    "<br>"
   ]
  },
  {
   "cell_type": "markdown",
   "id": "5ae555c3",
   "metadata": {},
   "source": [
    "### Slide: Nested Objects"
   ]
  },
  {
   "cell_type": "markdown",
   "id": "24452425",
   "metadata": {},
   "source": [
    "A nested object is defined _recursively_ as a __container__ of\n",
    "_nested objects_ or a __non-container__ leaf (_scalar_).\n",
    "\n",
    "```text\n",
    "NestedObject = Container[NestedObject] | Any\n",
    "Container = dict[key=Any] | list | tuple | namedtuple\n",
    "```\n",
    "\n",
    "* `namedtuple` is a _tuple_ that behaves essentially like a _mapping_ with predefnied _string_ keys\n",
    "* numpy **arrays**, torch or tensorflow **tensors** are treated as **leaves** (scalars)."
   ]
  },
  {
   "cell_type": "markdown",
   "id": "19f7bde2",
   "metadata": {},
   "source": [
    "<img src=\"assets/nested-object.png\"\n",
    "     alt=\"an example dict with a list, a tuple and another dict inside\"\n",
    "     title=\"an example of a nested object\">"
   ]
  },
  {
   "cell_type": "markdown",
   "id": "87a7e28e",
   "metadata": {},
   "source": [
    "<img src=\"assets/nested-rules.png\"\n",
    "     alt=\"a dict, a tuple and a list are different nested objects. dicts with different sets of keys and lists or tuples of different size are unequal nested objects\"\n",
    "     title=\"Constraints on the structure of nested objects\">"
   ]
  },
  {
   "cell_type": "markdown",
   "id": "09d6b3fa",
   "metadata": {},
   "source": [
    "Other names are `structure` (dm-tree, tensorflow) or `pytree` (jax):\n",
    "\n",
    "> `pytree` containers can be lists, tuples, dicts, namedtuple, None, OrderedDict. Other types of values, including numeric and ndarray values, are treated as leaves"
   ]
  },
  {
   "cell_type": "markdown",
   "id": "6d1dcdeb",
   "metadata": {},
   "source": [
    "Or in [dm-tree](https://github.com/deepmind/tree/blob/master/docs/api.rst)\n",
    "```text\n",
    "Structure = Union[\n",
    "    Any,\n",
    "    Sequence['Structure'],\n",
    "    Mapping[Any, 'Structure'],\n",
    "    'AnyNamedTuple',\n",
    "]\n",
    "```"
   ]
  },
  {
   "cell_type": "markdown",
   "id": "6bd93d79",
   "metadata": {},
   "source": [
    "<br>"
   ]
  },
  {
   "cell_type": "markdown",
   "id": "5b797f9c",
   "metadata": {},
   "source": [
    "### Slide: Solutions\n",
    "\n",
    "<img src=\"assets/how-it-works.png\"\n",
    "     alt=\"The recursive application of a callable f to the structures s-1, ..., s-n\"\n",
    "     title=\"Applying a callable to nested data structures\">\n",
    "\n",
    "Desirable properties\n",
    "* **reuse and generality**: remain oblivious to the structure\n",
    "\n",
    "* **speed**: do it many-Many-MANY times with little overhead\n",
    "\n",
    "* **simplicity**: intuitive interface and support of built-in containers"
   ]
  },
  {
   "cell_type": "markdown",
   "id": "54b960c8",
   "metadata": {},
   "source": [
    "<br>"
   ]
  },
  {
   "cell_type": "markdown",
   "id": "0793ea18",
   "metadata": {},
   "source": [
    "### Slide: Solution 1 -- [dm-tree](https://github.com/deepmind/tree.git)"
   ]
  },
  {
   "cell_type": "code",
   "execution_count": null,
   "id": "eac91878",
   "metadata": {},
   "outputs": [],
   "source": [
    "import tree as dm_tree"
   ]
  },
  {
   "cell_type": "markdown",
   "id": "cb4e424d",
   "metadata": {},
   "source": [
    "+ `abc.*` friendly\n",
    "+ fast c/c++ implementation (pybind11)\n",
    "+ standalone library\n",
    "\n",
    "```python\n",
    "dm_tree.map_structure(\n",
    "    #  A callable that accepts as many arguments as there are structures.\n",
    "    func,\n",
    "    \n",
    "    # Arbitrarily nested structures of the same layout.\n",
    "    *structures,\n",
    "\n",
    "    # check if the types of iterables within the structures match\n",
    "    check_types=True,\n",
    ")\n",
    "```\n",
    "\n",
    "Maps `func` through given structures."
   ]
  },
  {
   "cell_type": "code",
   "execution_count": null,
   "id": "e97a512f",
   "metadata": {},
   "outputs": [],
   "source": [
    "# help(dm_tree.map_structure)"
   ]
  },
  {
   "cell_type": "markdown",
   "id": "0fcd0abd",
   "metadata": {},
   "source": [
    "<br>"
   ]
  },
  {
   "cell_type": "markdown",
   "id": "3b3cc5d5",
   "metadata": {},
   "source": [
    "### Slide: Solution 2 -- [nest](https://www.tensorflow.org/api_docs/python/tf/nest) from tensorflow"
   ]
  },
  {
   "cell_type": "code",
   "execution_count": null,
   "id": "6d35ba11",
   "metadata": {},
   "outputs": [],
   "source": [
    "import tensorflow.nest as tf_nest"
   ]
  },
  {
   "cell_type": "markdown",
   "id": "f1f97324",
   "metadata": {},
   "source": [
    "- not `abc.*` friendly\n",
    "+ fast c/c++ implementation\n",
    "- ships with tensorflow\n",
    "\n",
    "```python\n",
    "tf_nest.map_structure(\n",
    "    # A callable that accepts as many arguments as there are structures\n",
    "    func,\n",
    "\n",
    "    # scalar, or tuple or dict or list of constructed scalars\n",
    "    #  and/or other tuples/lists, or scalars\n",
    "    *structure,\n",
    "\n",
    "    # check if the types of iterables within the structures match\n",
    "    check_types=True,\n",
    "\n",
    "    # expand composite tensors such as `tf.sparse.SparseTensor`\n",
    "    #  and `tf.RaggedTensor` into their component tensors\n",
    "    expand_composites=False,\n",
    ")\n",
    "```\n",
    "Applies `func(x[0], x[1], ...)` where `x[i]` is an entry in `structure[i]`.\n",
    "\n",
    "All structures in structure must have the same arity, and the return value\n",
    "will contain results with the same structure layout."
   ]
  },
  {
   "cell_type": "code",
   "execution_count": null,
   "id": "f4bf1755",
   "metadata": {},
   "outputs": [],
   "source": [
    "# help(tf_nest.map_structure)"
   ]
  },
  {
   "cell_type": "markdown",
   "id": "1e5a8383",
   "metadata": {},
   "source": [
    "<br>"
   ]
  },
  {
   "cell_type": "markdown",
   "id": "4ef24110",
   "metadata": {},
   "source": [
    "### Slide: Solution 3 -- [Pytrees](https://jax.readthedocs.io/en/latest/pytrees.html) from JAX"
   ]
  },
  {
   "cell_type": "code",
   "execution_count": null,
   "id": "9c077c95",
   "metadata": {},
   "outputs": [],
   "source": [
    "import jax.tree_util as pytree"
   ]
  },
  {
   "cell_type": "markdown",
   "id": "14e09ffb",
   "metadata": {},
   "source": [
    "+ not `abc.*` friendly, supports arbitrary [extensions](https://jax.readthedocs.io/en/latest/pytrees.html#extending-pytrees)\n",
    "+ fast xla/c/c++ implementation (jaxlib)\n",
    "- part of jax\n",
    "\n",
    "```python\n",
    "pytree.tree_map(\n",
    "    # callble to be applied at the corresponding leaves of the pytrees\n",
    "    f,\n",
    "\n",
    "    # pytrees to be mapped over, with each leaf providing a positional argument to ``f``.\n",
    "    *pytrees,\n",
    ")\n",
    "```\n",
    "\n",
    "Maps a multi-input function over pytree args to produce a new pytree."
   ]
  },
  {
   "cell_type": "code",
   "execution_count": null,
   "id": "264ce44b",
   "metadata": {},
   "outputs": [],
   "source": [
    "# help(pytree.tree_map)"
   ]
  },
  {
   "cell_type": "markdown",
   "id": "2d88ccfd",
   "metadata": {},
   "source": [
    "<br>"
   ]
  },
  {
   "cell_type": "markdown",
   "id": "dc50c585",
   "metadata": {},
   "source": [
    "### Slide: Solution 4 -- [plyr](https://github.com/ivannz/plyr.git)"
   ]
  },
  {
   "cell_type": "code",
   "execution_count": null,
   "id": "a14ef4f4",
   "metadata": {},
   "outputs": [],
   "source": [
    "import plyr"
   ]
  },
  {
   "cell_type": "markdown",
   "id": "5a47320f",
   "metadata": {},
   "source": [
    "- not `abc.*` friendly\n",
    "+ fast c/c++ implementation (c-python)\n",
    "+ standalone library\n",
    "\n",
    "```python\n",
    "plyr.apply(\n",
    "    # A callable that accepts as many arguments as there are objects\n",
    "    func,\n",
    "    \n",
    "    # nested objects that supply arguments for `func`\n",
    "    *objects,\n",
    "\n",
    "    # (optional) perform structureal safety checks\n",
    "    _safe=True,\n",
    "\n",
    "    # (optional) whether to make call n-ary calls `func(  v_1, ..., v_n  )`,\n",
    "    #  or unary calls with args packed in a tuple `func( (v_1, ..., v_n) )`\n",
    "    _star=True,\n",
    "    \n",
    "    # (optional) a callable to finalize a rebuild nested container\n",
    "    _finalizer=None,\n",
    "\n",
    "    # keyword arguments passed to each call of `func`\n",
    "    **kwargs,\n",
    ")\n",
    "```\n",
    "\n",
    "Compute the function using the data from the nested objects."
   ]
  },
  {
   "cell_type": "code",
   "execution_count": null,
   "id": "b96ae855",
   "metadata": {},
   "outputs": [],
   "source": [
    "# help(plyr.apply)"
   ]
  },
  {
   "cell_type": "markdown",
   "id": "0db76972",
   "metadata": {},
   "source": [
    "A version of `apply` with leaf broadcasting semantics in _ragged_ nested objects.\n",
    "> any leaf object is**broadcasted deeper into the hierarchy** of the remaining nested structures\n",
    "\n",
    "```python\n",
    "plyr.ragged(\n",
    "    # A callable that accepts as many arguments as there are objects\n",
    "    func,\n",
    "    \n",
    "    # nested objects that supply arguments for `func`\n",
    "    *objects,\n",
    "\n",
    "    # (optional) whether to make call n-ary calls `func(  v_1, ..., v_n  )`,\n",
    "    #  or unary calls with args packed in a tuple `func( (v_1, ..., v_n) )`\n",
    "    _star=True,\n",
    "    \n",
    "    # (optional) a callable to finalize a rebuilt nested container\n",
    "    _finalizer=None,\n",
    "\n",
    "    # keyword arguments passed to each call of `func`\n",
    "    **kwargs,\n",
    ")\n",
    "```"
   ]
  },
  {
   "cell_type": "markdown",
   "id": "614703ee",
   "metadata": {},
   "source": [
    "<img src=\"assets/ragged-broadcast.png\"\n",
    "     alt=\"Leaves are broadcasted deeper into the hierarchy\"\n",
    "     title=\"Broadcasting leaves through the hierarchy\">"
   ]
  },
  {
   "cell_type": "code",
   "execution_count": null,
   "id": "5ca41d52",
   "metadata": {},
   "outputs": [],
   "source": [
    "# help(plyr.ragged)"
   ]
  },
  {
   "cell_type": "markdown",
   "id": "b06f5794",
   "metadata": {},
   "source": [
    "<br>"
   ]
  },
  {
   "cell_type": "markdown",
   "id": "27fca2be",
   "metadata": {},
   "source": [
    "### Slide: Speed Benchmark"
   ]
  },
  {
   "cell_type": "markdown",
   "id": "0acecf7d",
   "metadata": {},
   "source": [
    "Stacking or summing vectors $\\mathbb{R}^d$ with $d=100$:\n",
    "* `16` structures, each being a `16`-element containers of `np.array`\n",
    "\n",
    "Nested stacking speed measurements made on `4.2 GHz Intel Core i7 32 GB 2400 MHz DDR4`\n",
    "($101$ replications, $250\\times$ each).\n",
    "\n",
    "<div>\n",
    "<style scoped>\n",
    "    .dataframe tbody tr th:only-of-type {\n",
    "        vertical-align: middle;\n",
    "    }\n",
    "\n",
    "    .dataframe tbody tr th {\n",
    "        vertical-align: top;\n",
    "    }\n",
    "\n",
    "    .dataframe thead th {\n",
    "        text-align: right;\n",
    "    }\n",
    "</style>\n",
    "<table border=\"1\" class=\"dataframe\">\n",
    "  <thead>\n",
    "    <tr style=\"text-align: right;\">\n",
    "      <th></th>\n",
    "      <th>dm-tree</th>\n",
    "      <th>plyr.apply</th>\n",
    "      <th>plyr.ragged</th>\n",
    "      <th>pytree</th>\n",
    "      <th>tf-nest</th>\n",
    "    </tr>\n",
    "  </thead>\n",
    "  <tbody>\n",
    "    <tr>\n",
    "      <th>dict-stack</th>\n",
    "      <td>3.347 ± 0.18</td>\n",
    "      <td>2.456 ± 0.06</td>\n",
    "      <td>2.482 ± 0.09</td>\n",
    "      <td>2.704 ± 0.04</td>\n",
    "      <td>3.741 ± 0.17</td>\n",
    "    </tr>\n",
    "    <tr>\n",
    "      <th>dict-sum</th>\n",
    "      <td>1.857 ± 0.07</td>\n",
    "      <td>1.040 ± 0.02</td>\n",
    "      <td>1.050 ± 0.02</td>\n",
    "      <td>1.282 ± 0.02</td>\n",
    "      <td>2.272 ± 0.04</td>\n",
    "    </tr>\n",
    "    <tr>\n",
    "      <th>list-stack</th>\n",
    "      <td>3.083 ± 0.05</td>\n",
    "      <td>2.389 ± 0.05</td>\n",
    "      <td>2.392 ± 0.04</td>\n",
    "      <td>2.616 ± 0.04</td>\n",
    "      <td>3.572 ± 0.07</td>\n",
    "    </tr>\n",
    "    <tr>\n",
    "      <th>list-sum</th>\n",
    "      <td>1.654 ± 0.03</td>\n",
    "      <td>1.018 ± 0.03</td>\n",
    "      <td>1.000 ± 0.02</td>\n",
    "      <td>1.220 ± 0.04</td>\n",
    "      <td>2.144 ± 0.03</td>\n",
    "    </tr>\n",
    "  </tbody>\n",
    "</table>\n",
    "</div>\n",
    "\n",
    "* Reported values are `median ± IQR` in $\\times {10}^{-4}$ sec. scale."
   ]
  },
  {
   "cell_type": "markdown",
   "id": "2a1726ea",
   "metadata": {},
   "source": [
    "<br>"
   ]
  },
  {
   "cell_type": "markdown",
   "id": "8ad81ff1",
   "metadata": {},
   "source": [
    "## Trunk"
   ]
  },
  {
   "cell_type": "markdown",
   "id": "7baea388",
   "metadata": {},
   "source": [
    "### Code for benchmarking"
   ]
  },
  {
   "cell_type": "code",
   "execution_count": null,
   "id": "445b4098",
   "metadata": {},
   "outputs": [],
   "source": [
    "appliers = {\n",
    "    \"plyr.apply\": \"from plyr import apply as apply\",\n",
    "    \"pytree\": \"from jax.tree_util import tree_map as apply\",\n",
    "    \"tf-nest\": \"from tensorflow.nest import map_structure as apply\",\n",
    "    \"dm-tree\": \"from tree import map_structure as apply\",\n",
    "\n",
    "    # leaf-broadcasting `apply`\n",
    "    \"plyr.ragged\": \"from plyr import ragged as apply\",\n",
    "}"
   ]
  },
  {
   "cell_type": "markdown",
   "id": "c6e74ad0",
   "metadata": {},
   "source": [
    "A code generator for nested objects with the specified simple structure."
   ]
  },
  {
   "cell_type": "code",
   "execution_count": null,
   "id": "9b47277e",
   "metadata": {},
   "outputs": [],
   "source": [
    "def generate(setup, *shape, kind='list'):\n",
    "    if kind == 'dict':\n",
    "        line = \"_x{:02d} = {{j: _x{:02d} for j in range({})}}\\n\"\n",
    "\n",
    "    elif kind == 'tuple':\n",
    "        line = \"_x{:02d} = (_x{:02d},) * {}\\n\"\n",
    "\n",
    "    elif kind == 'list':\n",
    "        line = \"_x{:02d} = [_x{:02d}] * {}\\n\"\n",
    "\n",
    "    else:\n",
    "        raise ValueError(kind)\n",
    "\n",
    "    # generate a deeply nested structured data\n",
    "    code = \"_x00 = data\\n\"\n",
    "    *lower, n_args = shape\n",
    "    for lv, d in enumerate(lower, 1):\n",
    "        code += line.format(lv, lv-1, d)\n",
    "\n",
    "    # always generate a tuple at the top\n",
    "    lv = len(shape)\n",
    "    code += f\"_x{lv:02d} = (_x{lv-1:02d},) * {n_args}\\n\"\n",
    "\n",
    "    return setup + (\"\\n\\n\" if setup else \"\") + code, f\"_x{len(shape):02d}\""
   ]
  },
  {
   "cell_type": "markdown",
   "id": "a85f95f0",
   "metadata": {},
   "source": [
    "The following performs measurements of the runtime speed using `timeit`.\n",
    "It produces the wall-time of the given statement repeated `n_per_loop`\n",
    "times measured in `n_loops` independent replications.\n",
    "\n",
    "Roughly\n",
    "```python\n",
    "timings = []\n",
    "\n",
    "...  # setup\n",
    "for i in range(n_loops):\n",
    "    beg = clock()\n",
    "    for j in range(n_per_loop):\n",
    "        ...  # statement\n",
    "\n",
    "    timings.append((clock() - end) / n_per_loop)\n",
    "```"
   ]
  },
  {
   "cell_type": "code",
   "execution_count": null,
   "id": "9586cc10",
   "metadata": {},
   "outputs": [],
   "source": [
    "import numpy\n",
    "\n",
    "def timeit(\n",
    "    setup,\n",
    "    *shape,\n",
    "    kind='list',\n",
    "    n_loops=25,\n",
    "    n_per_loop=50,\n",
    "):\n",
    "    from timeit import repeat\n",
    "    from time import monotonic\n",
    "\n",
    "    setup, var = generate(setup, *shape, kind=kind)\n",
    "    return numpy.array(\n",
    "        repeat(\n",
    "            stmt=f\"apply(func, *{var})\",\n",
    "            setup=setup,\n",
    "            number=n_per_loop,\n",
    "            repeat=n_loops,\n",
    "            globals={},\n",
    "            timer=monotonic,\n",
    "        )\n",
    "    ) / n_per_loop"
   ]
  },
  {
   "cell_type": "markdown",
   "id": "e9c94b26",
   "metadata": {},
   "source": [
    "The common setup code"
   ]
  },
  {
   "cell_type": "code",
   "execution_count": null,
   "id": "53ae35bd",
   "metadata": {},
   "outputs": [],
   "source": [
    "setup = \"\"\"\n",
    "import numpy\n",
    "from numpy import stack\n",
    "\n",
    "{{apply}}\n",
    "\n",
    "func = {func}\n",
    "data = numpy.random.randn(100)\n",
    "\"\"\""
   ]
  },
  {
   "cell_type": "markdown",
   "id": "077cd42e",
   "metadata": {},
   "source": [
    "spawn tests"
   ]
  },
  {
   "cell_type": "code",
   "execution_count": null,
   "id": "74ce5dc4",
   "metadata": {},
   "outputs": [],
   "source": [
    "shape = 16, 16\n",
    "\n",
    "tests = {\n",
    "    \"list-stack\": (\n",
    "        setup.format(func=\"lambda *a: stack(a)\"),\n",
    "        shape,\n",
    "        'list',\n",
    "    ),\n",
    "    \"dict-stack\": (\n",
    "        setup.format(func=\"lambda *a: stack(a)\"),\n",
    "        shape,\n",
    "        'dict',\n",
    "    ),\n",
    "    \"list-sum\": (\n",
    "        setup.format(func=\"lambda *a: sum(a)\"),\n",
    "        shape,\n",
    "        'list',\n",
    "    ),\n",
    "    \"dict-sum\": (\n",
    "        setup.format(func=\"lambda *a: sum(a)\"),\n",
    "        shape,\n",
    "        'dict',\n",
    "    ),\n",
    "}"
   ]
  },
  {
   "cell_type": "code",
   "execution_count": null,
   "id": "9415d808",
   "metadata": {},
   "outputs": [],
   "source": [
    "n_loops, n_per_loop = 101, 250\n",
    "\n",
    "timings = {}\n",
    "for test, (code, shape, kind) in tests.items():\n",
    "    for name, apply in appliers.items():\n",
    "        timings[test, name] = timeit(\n",
    "            code.format(apply=apply),\n",
    "            *shape, kind=kind, n_loops=n_loops, n_per_loop=n_per_loop,\n",
    "        )"
   ]
  },
  {
   "cell_type": "markdown",
   "id": "37f97f81",
   "metadata": {},
   "source": [
    "Collect into a dataframe"
   ]
  },
  {
   "cell_type": "code",
   "execution_count": null,
   "id": "cebf7ca3",
   "metadata": {},
   "outputs": [],
   "source": [
    "import pandas as pd\n",
    "\n",
    "columns, quantiles = zip(\n",
    "    ('q_1', 0.25,),\n",
    "    ('med', 0.50,),\n",
    "    ('q_3', 0.75,),\n",
    ")\n",
    "\n",
    "results = pd.DataFrame({\n",
    "    name: dict(zip(columns, numpy.quantile(data, quantiles, axis=-1)))\n",
    "    for name, data in timings.items()\n",
    "}).T"
   ]
  },
  {
   "cell_type": "markdown",
   "id": "3fdf03f8",
   "metadata": {},
   "source": [
    "Rescale the timings and transform into masurement-spread format"
   ]
  },
  {
   "cell_type": "code",
   "execution_count": null,
   "id": "5e13cb1d",
   "metadata": {},
   "outputs": [],
   "source": [
    "exp = int(numpy.ceil(-numpy.log10(results['med'])).min())\n",
    "\n",
    "df_pm_speed = (results * 10**exp).apply(\n",
    "    lambda r: f\"{r.med:0.3f} ± {r.q_3 - r.q_1:0.2f}\",\n",
    "    axis='columns',\n",
    ").unstack(1)"
   ]
  },
  {
   "cell_type": "markdown",
   "id": "f3806863",
   "metadata": {},
   "source": [
    "Display the results"
   ]
  },
  {
   "cell_type": "code",
   "execution_count": null,
   "id": "84f08442",
   "metadata": {},
   "outputs": [],
   "source": [
    "caption = rf\"Nested stacking speed measurements ($\\times {{10}}^{{-{exp}}}$-sec.)\"\n",
    "latex = df_pm_speed.to_latex(caption=caption)\n",
    "\n",
    "print(caption)\n",
    "df_pm_speed.style.highlight_min(axis=1)"
   ]
  },
  {
   "cell_type": "markdown",
   "id": "af4de4c9",
   "metadata": {},
   "source": [
    "<br>"
   ]
  },
  {
   "cell_type": "code",
   "execution_count": null,
   "id": "b86e3acf",
   "metadata": {},
   "outputs": [],
   "source": [
    "print(df_pm_speed.to_html(notebook=True))"
   ]
  },
  {
   "cell_type": "markdown",
   "id": "4c006c0b",
   "metadata": {},
   "source": [
    "<br>"
   ]
  },
  {
   "cell_type": "raw",
   "id": "0f8b6fc6",
   "metadata": {},
   "source": [
    "import pdb; pdb.pm()"
   ]
  },
  {
   "cell_type": "code",
   "execution_count": null,
   "id": "8e4d5c0b",
   "metadata": {},
   "outputs": [],
   "source": [
    "assert False"
   ]
  },
  {
   "cell_type": "markdown",
   "id": "f593d69c",
   "metadata": {},
   "source": [
    "<br>"
   ]
  },
  {
   "cell_type": "markdown",
   "id": "d0a128f8",
   "metadata": {},
   "source": [
    "### Examples"
   ]
  },
  {
   "cell_type": "code",
   "execution_count": null,
   "id": "383c1449",
   "metadata": {},
   "outputs": [],
   "source": [
    "import numpy as np"
   ]
  },
  {
   "cell_type": "code",
   "execution_count": null,
   "id": "b3904a61",
   "metadata": {},
   "outputs": [],
   "source": [
    "a = np.random.randn(10)\n",
    "aa = [a] * 512\n",
    "aaa = [aa] * 512"
   ]
  },
  {
   "cell_type": "code",
   "execution_count": null,
   "id": "3698259c",
   "metadata": {},
   "outputs": [],
   "source": [
    "res_dm_tree = dm_tree.map_structure(\n",
    "    lambda *a: sum(a), *aaa,\n",
    ")"
   ]
  },
  {
   "cell_type": "code",
   "execution_count": null,
   "id": "651497f6",
   "metadata": {},
   "outputs": [],
   "source": [
    "res_tf_nest = tf_nest.map_structure(\n",
    "    lambda *a: sum(a), *aaa,\n",
    ")\n",
    "\n",
    "for a, b in zip(res_tf_nest, res_dm_tree):\n",
    "    assert np.allclose(a, b)"
   ]
  },
  {
   "cell_type": "code",
   "execution_count": null,
   "id": "3d560337",
   "metadata": {},
   "outputs": [],
   "source": [
    "res_pytree = pytree.tree_map(\n",
    "    lambda *a: sum(a), *aaa,\n",
    ")\n",
    "\n",
    "for a, b in zip(res_pytree, res_dm_tree):\n",
    "    assert np.allclose(a, b)"
   ]
  },
  {
   "cell_type": "code",
   "execution_count": null,
   "id": "1622c86a",
   "metadata": {},
   "outputs": [],
   "source": [
    "res_plyr = plyr.apply(\n",
    "    lambda *a: sum(a), *aaa,\n",
    ")\n",
    "\n",
    "for a, b in zip(res_plyr, res_dm_tree):\n",
    "    assert np.allclose(a, b)"
   ]
  },
  {
   "cell_type": "code",
   "execution_count": null,
   "id": "5788ddf2",
   "metadata": {},
   "outputs": [],
   "source": [
    "plyr.ragged(\n",
    "    lambda a, b: a + b,\n",
    "    {'k1': ('a', 'b'), 'k2': 'c'},\n",
    "    {'k1': 'x', 'k2': ['y', 'z']},\n",
    ")"
   ]
  },
  {
   "cell_type": "markdown",
   "id": "76f9ae76",
   "metadata": {},
   "source": [
    "<br>"
   ]
  },
  {
   "cell_type": "markdown",
   "id": "c517d57c",
   "metadata": {},
   "source": [
    "### Setup"
   ]
  },
  {
   "cell_type": "markdown",
   "id": "fc271a19",
   "metadata": {},
   "source": [
    "```bash\n",
    "conda update -n base -c defaults conda\n",
    "\n",
    "# create the testing env\n",
    "conda create -n plyr-compare \\\n",
    "\"python=3.9\" \\\n",
    "conda-forge::llvm-openmp \\\n",
    "conda-forge::compilers \\\n",
    "pip \\\n",
    "setuptools \\\n",
    "cython \\\n",
    "numba \\\n",
    "numpy \\\n",
    "mkl \\\n",
    "scipy \\\n",
    "pytest\n",
    "\n",
    "conda install -n plyr-compare \\\n",
    "matplotlib \\\n",
    "jupyter \\\n",
    "pandas \\\n",
    "tqdm\n",
    "\n",
    "conda activate plyr-compare\n",
    "\n",
    "# instaling the libs\n",
    "pip install --upgrade \"jax[cpu]\" dm-tree tensorflow python-plyr\n",
    "```"
   ]
  },
  {
   "cell_type": "markdown",
   "id": "05026c65",
   "metadata": {},
   "source": [
    "<br>"
   ]
  }
 ],
 "metadata": {
  "kernelspec": {
   "display_name": "Python 3 (ipykernel)",
   "language": "python",
   "name": "python3"
  },
  "language_info": {
   "codemirror_mode": {
    "name": "ipython",
    "version": 3
   },
   "file_extension": ".py",
   "mimetype": "text/x-python",
   "name": "python",
   "nbconvert_exporter": "python",
   "pygments_lexer": "ipython3",
   "version": "3.9.7"
  }
 },
 "nbformat": 4,
 "nbformat_minor": 5
}
